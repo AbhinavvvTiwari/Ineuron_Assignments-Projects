{
 "cells": [
  {
   "cell_type": "code",
   "execution_count": null,
   "id": "c0300c74",
   "metadata": {},
   "outputs": [],
   "source": [
    "A=1: Two values of boolean data types are 0 and 1. we write it as true and false\n"
   ]
  },
  {
   "cell_type": "code",
   "execution_count": null,
   "id": "480e1f79",
   "metadata": {},
   "outputs": [],
   "source": [
    "A=2:Three types of operators are : And, OR,Not\n",
    "        "
   ]
  },
  {
   "cell_type": "code",
   "execution_count": null,
   "id": "a356961d",
   "metadata": {},
   "outputs": [],
   "source": [
    "A=3 AND Operator: T and F F\n",
    "                  F and T F\n",
    "                  T and T T\n",
    "                  F and F F\n",
    "    OR Operator:  T OR F T\n",
    "                  F or T T\n",
    "                  T or T T\n",
    "                  F or F F\n",
    "    Not Operator: T F\n",
    "                  F T"
   ]
  },
  {
   "cell_type": "code",
   "execution_count": null,
   "id": "4fa5978a",
   "metadata": {},
   "outputs": [],
   "source": [
    "A=4 a) (5 > 4) and (3 == 5) = F\n",
    "    b) not (5 > 4) = F\n",
    "    c)not ((5 > 4) or (3 == 5))=F\n",
    "    D)(True and True) and (True == False) = F\n",
    "    E)(not False) or (not True) =T"
   ]
  },
  {
   "cell_type": "code",
   "execution_count": null,
   "id": "7d6fa0dc",
   "metadata": {},
   "outputs": [],
   "source": [
    "A=5 ( < ), ( <= ), ( > ), ( >= ), ( == ), ( != )"
   ]
  },
  {
   "cell_type": "code",
   "execution_count": null,
   "id": "f0be67a3",
   "metadata": {},
   "outputs": [],
   "source": [
    "A=6 Assignment operator is denoted by \"=\" it is used to give value/data to a variable while equal to is denoted by \"==\" is primarily used to whether the value we have given is equal to the variable basically is used to make a codition\n",
    "\n",
    "for eg if i need to assign integer value 6 to a variable a, then i will type a=6 \n",
    "if i need to put a condition where the value has to be a 6 i will type a==6 if this comes false code will not move forward"
   ]
  },
  {
   "cell_type": "code",
   "execution_count": null,
   "id": "a4bdec09",
   "metadata": {},
   "outputs": [],
   "source": [
    "A=7 the first line where spam is assigned value 10 using equal to operator makes the condition false and the code will jump to next line so spam==10 is the first block\n",
    "as the second conditon comes which says spam>5 and as spam variable has been declared 0 makes statement false and the code will jump to last line\n",
    "print ham spam and spam\n",
    "\n"
   ]
  },
  {
   "cell_type": "code",
   "execution_count": null,
   "id": "e939e518",
   "metadata": {},
   "outputs": [],
   "source": [
    "#A=7\n",
    "\n",
    "spam= int(input(\"Enter the value of a \"))\n",
    "\n",
    "if spam==1:\n",
    "    print(\"Hello\")\n",
    "elif spam==2:\n",
    "    print(\"Howdy\")\n",
    "else:\n",
    "    print(\"Greetings\")"
   ]
  },
  {
   "cell_type": "code",
   "execution_count": null,
   "id": "bbc1c6a3",
   "metadata": {},
   "outputs": [],
   "source": []
  }
 ],
 "metadata": {
  "kernelspec": {
   "display_name": "Python 3 (ipykernel)",
   "language": "python",
   "name": "python3"
  },
  "language_info": {
   "codemirror_mode": {
    "name": "ipython",
    "version": 3
   },
   "file_extension": ".py",
   "mimetype": "text/x-python",
   "name": "python",
   "nbconvert_exporter": "python",
   "pygments_lexer": "ipython3",
   "version": "3.9.7"
  }
 },
 "nbformat": 4,
 "nbformat_minor": 5
}
